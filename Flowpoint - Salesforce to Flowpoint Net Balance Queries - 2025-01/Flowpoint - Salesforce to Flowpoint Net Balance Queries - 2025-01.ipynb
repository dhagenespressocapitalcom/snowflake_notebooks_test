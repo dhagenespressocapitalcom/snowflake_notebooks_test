{
 "metadata": {
  "kernelspec": {
   "display_name": "Streamlit Notebook",
   "name": "streamlit"
  },
  "lastEditStatus": {
   "notebookId": "2d4pjuj4cwuhlefvyfdf",
   "authorId": "114522270066",
   "authorName": "DHAGENESPRESSOCAPITALCOM",
   "authorEmail": "dhagen@espressocapital.com",
   "sessionId": "c7e42b6a-ba71-427e-a2da-ca848bc1f1ca",
   "lastEditTime": 1739896256079
  }
 },
 "nbformat_minor": 5,
 "nbformat": 4,
 "cells": [
  {
   "cell_type": "code",
   "id": "8d50cbf4-0c8d-4950-86cb-114990437ac9",
   "metadata": {
    "language": "sql",
    "name": "event_trigger"
   },
   "source": "-- Checking for the Month End Date. \n-- Only proceed if there are \n--      a) rows returned\n--      b) we havent processed the returned date yet.\n-- Store the date as it will be used for a filter downstream\n\nwith\nbilling_periods as (\n    select * from staging.salesforce.stg_salesforce__billing_period_c\n)\n\nselect\n    id,\n    name,\n    status_c,\n    month_start_date_c,\n    month_end_date_c, -- critical for determining when\n    period_end_date_c\nfrom billing_periods\nwhere status_c = 'Closed'\n  and period_end_date_c >= date_trunc('month', CURRENT_DATE)\n",
   "execution_count": null,
   "outputs": []
  },
  {
   "cell_type": "markdown",
   "id": "89378a2f-6676-4d1b-bed9-bcd4667d07f5",
   "metadata": {
    "name": "cell1",
    "collapsed": false
   },
   "source": "# Use the Below Query\n#### This query will return the Net Balances for the last closed period.  All the results will be selectively pushed to Flowpoint.\n#### The Integration process contains the a list of what was already pushed to Flowpoint.  If the results were already pushed, then that Opportunity will be skipped for the next execution."
  },
  {
   "cell_type": "code",
   "id": "a6b0b8b5-bcd5-45e6-8dae-62b667cd00d7",
   "metadata": {
    "language": "sql",
    "name": "get_net_balances",
    "codeCollapsed": false
   },
   "outputs": [],
   "source": "-- get the net account balances here\n--\n-- This process will always return rows.\n--   It's up to the integration to ensure that it only calls the api if/when the traacting \n--   document says that it needs to be updated.\n-- \n-- The process runs every day.\n--      - run this query.\n--      - compare each row to last updated row in the integration\n--      - if row is old:\n--          - call the api\n--              - Success: update tracking document\n--              - Failure: send notification and move on\n--      - if row is current\n--          - ignore and move on\n--       \n--  Sample tracking document\n-- { \"accounts\": [\n--     {\n--         \"account_id\": \"xyz\",\n--         \"account_name\": \"some name\",\n--         \"opportunities\": [\n--             {\n--                 \"opportunity_id\": \"xyzabc\",\n--                 \"opportunity_name\": \"some name\",\n--                 \"last_flowpoint_update\": \"YYYY-MM-DD\"\n--             },\n--             {\n--                 \"opportunity_id\": \"xyzabc\",\n--                 \"opportunity_name\": \"some name\",\n--                 \"last_flowpoint_update\": \"YYYY-MM-DD\"\n--             }\n--         ]\n--     },\n--     {\n--         \"account_id\": \"abc\",\n--         \"account_name\": \"some name\",\n--         \"opportunities\": [\n--             {\n--                 \"opportunity_id\": \"abcxyz\",\n--                 \"opportunity_name\": \"some name\",\n--                 \"last_flowpoint_update\": \"YYYY-MM-DD\"\n--             },\n--             {\n--                 \"opportunity_id\": \"xyzabc\",\n--                 \"opportunity_name\": \"some name\",\n--                 \"last_flowpoint_update\": \"YYYY-MM-DD\"\n--             }\n--         ]\n--     },    \n--     ]\n-- }\n\nwith\nget_month as (\n    select max(month_end_date_c) as month_end_date\n    from staging.salesforce.stg_salesforce__billing_period_c \n    where status_c = 'Closed'\n),\n\nloans as (\n    select * from staging.intermediate.int_salesforce__loan\n),\n\nledgers as (\n    select * from staging.intermediate.int_salesforce__transaction_ledger\n),\n\naccounts as (\n    select \n        id as account_id,\n        name as account_name\n    from staging.intermediate.int_salesforce__account\n    where is_deleted=false\n),\n\nopportunities as (\n    select \n        id as opportunity_id,\n        name as opportunity_name,\n        account_id\n    from staging.intermediate.int_salesforce__opportunity\n    where is_deleted=false\n),\n\nledgers_filtered as (\n    select \n        *\n    from ledgers\n    where transaction_date_c<=(select month_end_date from get_month)\n      and is_deleted=false\n),\n\nadvances as (\n    select\n        l.loan_c, \n        p.opportunity_c as opportunity_id,\n        sum(coalesce(l.transaction_amount_c,0)) as total_advanced_amount\n    from ledgers_filtered l\n    inner join loans p \n        on p.id=l.loan_c\n    where p.loan_status_c='Open - Balance Remaining'\n      and l.transaction_type_c='Principal'\n      and l.line_item_name_c not ilike 'Interest%'\n      and l.line_item_name_c in ('Principal Advanced', 'Rollover Advance')\n    group by \n        l.loan_c, p.opportunity_c\n),\n\nrepayments as (\n    select \n        l.loan_c,\n        p.opportunity_c as opportunity_id,\n        sum(coalesce(l.transaction_amount_c,0)) as total_repaid_amount\n    from ledgers_filtered l\n    inner join loans p on p.id=l.loan_c\n    where p.loan_status_c='Open - Balance Remaining'\n      and l.transaction_type_c='Principal'\n      and l.line_item_name_c not like ('Interest%')\n      and l.line_item_name_c in ('Principal Repaid', 'Rollover Repayment')\n    group by \n        l.loan_c, p.opportunity_c\n),\n\nnet_transaction_amount as (\n    select\n        a.loan_c as loan,\n        a.opportunity_id,\n        coalesce(a.total_advanced_amount, 0) - coalesce(r.total_repaid_amount, 0) as net_transaction_amount,\n        a.total_advanced_amount,\n        r.total_repaid_amount\n    from advances a\n    left join repayments r\n        on a.loan_c = r.loan_c\n),\n\nfinal as (\n    select\n        m.month_end_date,\n        p.loan,\n        a.account_id,\n        a.account_name,\n        p.opportunity_id,\n        o.opportunity_name,\n        p.net_transaction_amount\n        -- p.total_advanced_amount,\n        -- p.total_repaid_amount\n    from net_transaction_amount p\n    inner join opportunities o\n        on o.opportunity_id=p.opportunity_id\n    inner join accounts a \n        on a.account_id=o.account_id\n    cross join get_month m\n)\n\nselect * from final \n--where opportunity_id in ('0066T000017JRXxQAO', '0066T000017JAaQQAW')\norder by account_id, opportunity_id\n    \n-- Still need to identify the oppoetunity ids and maybe account ids here",
   "execution_count": null
  },
  {
   "cell_type": "markdown",
   "id": "16d851a5-88df-468b-ae8b-0461bca80ccc",
   "metadata": {
    "name": "cell2",
    "collapsed": false
   },
   "source": "### The following is the query to retrieve the latest 'Closed' period."
  },
  {
   "cell_type": "code",
   "id": "74957518-d587-4907-9c8b-b09656841264",
   "metadata": {
    "language": "sql",
    "name": "cell3"
   },
   "outputs": [],
   "source": "with\nget_month as (\n    select \n        max(month_end_date_c) as month_end_date\n    from staging.salesforce.stg_salesforce__billing_period_c \n    where status_c = 'Closed'\n),\n\nloans as (\n    select * from staging.intermediate.int_salesforce__loan\n),\n\nledgers as (\n    select * from staging.intermediate.int_salesforce__transaction_ledger\n),\n\naccounts as (\n    select \n        id as account_id,\n        name as account_name\n    from staging.intermediate.int_salesforce__account\n    where is_deleted=false\n),\n\nopportunities as (\n    select \n        id as opportunity_id,\n        name as opportunity_name,\n        account_id\n    from staging.intermediate.int_salesforce__opportunity\n    where is_deleted=false\n),\n\nledgers_filtered as (\n    select \n        *\n    from ledgers\n    where transaction_date_c<=(select month_end_date from get_month)\n      and is_deleted=false\n),\n\nadvances as (\n    select\n        l.loan_c, \n        p.opportunity_c as opportunity_id,\n        sum(coalesce(l.transaction_amount_c,0)) as total_advanced_amount\n    from ledgers_filtered l\n    inner join loans p on p.id=l.loan_c\n    -- the following is used to calculate the net balances - this is for total advances\n    where p.loan_status_c='Open - Balance Remaining'\n      and l.transaction_type_c='Principal'\n      and l.line_item_name_c in ('Principal Advanced', 'Rollover Advance')\n    group by \n        l.loan_c, p.opportunity_c\n),\n\nrepayments as (\n    select \n        l.loan_c,\n        p.opportunity_c as opportunity_id,\n        sum(coalesce(l.transaction_amount_c,0)) as total_repaid_amount\n    from ledgers_filtered l\n    inner join loans p on p.id=l.loan_c\n    -- the following is used to calculate the net balances - this is for total repayments\n    where p.loan_status_c='Open - Balance Remaining'\n      and l.transaction_type_c='Principal'\n      and l.line_item_name_c in ('Principal Repaid', 'Rollover Repayment')\n    group by \n        l.loan_c, p.opportunity_c\n),\n\nnet_transaction_amount as (\n    select\n        a.loan_c as loan,\n        a.opportunity_id,\n        coalesce(a.total_advanced_amount, 0) - coalesce(r.total_repaid_amount, 0) as net_transaction_amount,\n        a.total_advanced_amount,\n        r.total_repaid_amount\n    from advances a\n    left join repayments r\n        on a.loan_c = r.loan_c\n),\n\nfinal as (\n    select\n        m.month_end_date,\n        p.loan,\n        a.account_id,\n        a.account_name,\n        p.opportunity_id,\n        o.opportunity_name,\n        p.net_transaction_amount,\n        p.total_advanced_amount,\n        p.total_repaid_amount\n    from net_transaction_amount p\n    inner join opportunities o\n        on o.opportunity_id=p.opportunity_id\n    inner join accounts a \n        on a.account_id=o.account_id\n    cross join get_month m\n)\n\n-- select * from get_month\n\nselect * from final \norder by account_name\n\n    ",
   "execution_count": null
  }
 ]
}