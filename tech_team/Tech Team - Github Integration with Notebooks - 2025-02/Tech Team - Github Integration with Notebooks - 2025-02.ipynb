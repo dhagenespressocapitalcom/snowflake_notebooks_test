{
 "metadata": {
  "kernelspec": {
   "display_name": "Streamlit Notebook",
   "name": "streamlit"
  },
  "lastEditStatus": {
   "notebookId": "ll2hqxlszjutzolkiamd",
   "authorId": "114522270066",
   "authorName": "DHAGENESPRESSOCAPITALCOM",
   "authorEmail": "dhagen@espressocapital.com",
   "sessionId": "ffd1e5ab-bff7-434e-8d06-45a6f9282223",
   "lastEditTime": 1739903874666
  }
 },
 "nbformat_minor": 5,
 "nbformat": 4,
 "cells": [
  {
   "cell_type": "markdown",
   "id": "54d2f20e-16e8-4235-81c1-29a8a1eb3615",
   "metadata": {
    "name": "cell1",
    "collapsed": false
   },
   "source": "# Step 1\n## To use a Git repository with Snowflake, follow these steps:\n#### 1) Create a secret, if needed, to contain credentials for authenticating with the repository.\n#### 2) Create an API integration to specify details about Snowflake interaction with the Git repository API.\n#### 3) Create a Snowflake Git repository stage to which you can synchronize files from the repository."
  },
  {
   "cell_type": "markdown",
   "id": "0004d2be-4e4d-467c-90b1-f228c9749650",
   "metadata": {
    "name": "cell3",
    "collapsed": false
   },
   "source": "We are currently in a holding pattern as I do not have access to set a Espresso private key token.  I've asked Huseyin to set it up and put the result into Bitwarden.\n\nResources:\nGit Token:  https://docs.github.com/en/organizations/managing-programmatic-access-to-your-organization/setting-a-personal-access-token-policy-for-your-organization#restricting-access-by-personal-access-tokens\n\nSnowflake Setup:  https://docs.snowflake.com/en/developer-guide/git/git-setting-up\n\nSnowflake Connecting:  https://docs.snowflake.com/en/user-guide/ui-snowsight/notebooks-snowgit"
  },
  {
   "cell_type": "code",
   "id": "b47ecdfe-921f-4650-a6d5-662a5e707bfa",
   "metadata": {
    "language": "sql",
    "name": "cell2",
    "collapsed": false
   },
   "outputs": [],
   "source": "-- going to set this up for personal access first to my repository dhagenespressocapitalcom/snowflake_notebooks_test\n-- USE ROLE securityadmin;\n-- CREATE ROLE myco_secrets_admin;\n-- GRANT CREATE SECRET ON SCHEMA myco_db.integrations TO ROLE myco_secrets_admin;\n\n-- USE ROLE myco_db_owner;\n-- GRANT USAGE ON DATABASE myco_db TO ROLE myco_secrets_admin;\n-- GRANT USAGE ON SCHEMA myco_db.integrations TO ROLE myco_secrets_admin;\n\n-- USE ROLE myco_secrets_admin;\n-- USE DATABASE myco_db;\n-- USE SCHEMA myco_db.integrations;\n\n-- CREATE OR REPLACE SECRET myco_git_secret\n--   TYPE = password\n--   USERNAME = 'gladyskravitz'\n--   PASSWORD = 'ghp_token';\n\n-- the following is for testing only until we can setup full account level access.\n\nUSE ROLE accountadmin;\nCREATE ROLE notebooks_secrets_admin;\nGRANT CREATE SECRET ON SCHEMA analytics.user_objects TO ROLE notebooks_secrets_admin;\n\n-- -- USE ROLE bi_analyst;\n-- -- GRANT USAGE ON DATABASE myco_db TO ROLE notebooks_secrets_admin;\n-- -- GRANT USAGE ON SCHEMA myco_db.integrations TO ROLE notebooks_secrets_admin;\n\n-- =========================== NOTE ============================================================== --\n-- note:  might be able to grant the role to the bi_analyst role and avoid user grants here. --\nGRANT ROLE notebooks_secrets_admin TO USER dhagenespressocapitalcom;\n\nUSE ROLE notebooks_secrets_admin;\nUSE DATABASE analytics;\nUSE SCHEMA analytics.user_objects;\n\nCREATE OR REPLACE SECRET dkh_git_secret\n  TYPE = password\n  USERNAME = '--not here--'\n  PASSWORD = '--not here--';",
   "execution_count": null
  },
  {
   "cell_type": "markdown",
   "id": "07e4b661-166c-49de-8e6c-96fe02b05099",
   "metadata": {
    "name": "cell4",
    "collapsed": false
   },
   "source": "## Create an API Integration"
  },
  {
   "cell_type": "code",
   "id": "7ddf94ba-3d95-4c8b-a89f-1623f55c01a0",
   "metadata": {
    "language": "sql",
    "name": "cell5",
    "collapsed": false
   },
   "outputs": [],
   "source": "\nUSE ROLE accountadmin;\nGRANT CREATE INTEGRATION ON ACCOUNT TO ROLE notebooks_secrets_admin;\n\nUSE ROLE notebooks_secrets_admin;\nUSE DATABASE analytics;\nUSE SCHEMA analytics.user_objects;\n\nCREATE OR REPLACE API INTEGRATION dkh_git_api_integration\n  API_PROVIDER = git_https_api\n  API_ALLOWED_PREFIXES = ('https://github.com/dhagenespressocapitalcom')\n  ALLOWED_AUTHENTICATION_SECRETS = (dkh_git_secret)\n  ENABLED = TRUE;",
   "execution_count": null
  },
  {
   "cell_type": "markdown",
   "id": "ebc5770b-ec75-439c-9064-e18867154614",
   "metadata": {
    "name": "cell6",
    "collapsed": false
   },
   "source": "# Create the repository"
  },
  {
   "cell_type": "code",
   "id": "f60c3a00-0f77-4cde-abc8-a6689813406d",
   "metadata": {
    "language": "sql",
    "name": "cell7",
    "collapsed": false
   },
   "outputs": [],
   "source": "USE ROLE accountadmin;\nGRANT CREATE GIT REPOSITORY ON SCHEMA analytics.user_objects TO ROLE notebooks_secrets_admin;\n\nUSE ROLE notebooks_secrets_admin;\n\nCREATE OR REPLACE GIT REPOSITORY snowflake_notebooks_test\n  API_INTEGRATION = dkh_git_api_integration\n  GIT_CREDENTIALS = dkh_git_secret\n  ORIGIN = 'https://github.com/dhagenespressocapitalcom/snowflake_notebooks_test.git';",
   "execution_count": null
  },
  {
   "cell_type": "code",
   "id": "3912edf1-9a2f-4133-9abb-f5f77d4e7f7d",
   "metadata": {
    "language": "sql",
    "name": "temp"
   },
   "outputs": [],
   "source": "USE ROLE accountadmin;\nGRANT CREATE GIT REPOSITORY ON SCHEMA analytics.user_objects TO ROLE notebooks_secrets_admin;\n\nDROP GIT REPOSITORY snowflake_extensions;",
   "execution_count": null
  }
 ]
}