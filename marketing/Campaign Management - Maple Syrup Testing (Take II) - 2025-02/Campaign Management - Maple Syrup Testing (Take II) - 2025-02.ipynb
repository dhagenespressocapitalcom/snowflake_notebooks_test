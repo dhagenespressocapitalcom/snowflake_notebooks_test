{
 "metadata": {
  "kernelspec": {
   "display_name": "Streamlit Notebook",
   "name": "streamlit"
  },
  "lastEditStatus": {
   "notebookId": "pm6zuycfb5heb3zv4n44",
   "authorId": "114522270066",
   "authorName": "DHAGENESPRESSOCAPITALCOM",
   "authorEmail": "dhagen@espressocapital.com",
   "sessionId": "9f879e85-3526-463f-bf32-4c4b0a79dee0",
   "lastEditTime": 1739728550386
  }
 },
 "nbformat_minor": 5,
 "nbformat": 4,
 "cells": [
  {
   "cell_type": "markdown",
   "id": "bcf57d85-bb7b-4485-bf3f-2838fbab66e4",
   "metadata": {
    "name": "cell1",
    "collapsed": false
   },
   "source": "# Step 1 - Get all contacts and campaigns\n## One more time with feeling\n#### All Contact/Maple Syrup Campaigns"
  },
  {
   "cell_type": "code",
   "id": "8d50cbf4-0c8d-4950-86cb-114990437ac9",
   "metadata": {
    "language": "sql",
    "name": "cell2"
   },
   "source": "with\ncampaigns as (\n    select \n        id as campaign_id,\n        name as campaign_name,\n        'Yes' as is_maple_syrup,\n        start_date as campaign_start_date,\n        end_date as campaign_end_date\n    from staging.salesforce.stg_salesforce__campaign\n    -- doesn't support (?i) syntax :(\n    where name rlike '^[0-9]{4}\\\\s+.*\\\\b[Mm][Aa][Pp][Ll][Ee]\\\\b.*\\\\b[Ss][Yy][Rr][Uu][Pp]\\\\b.*$'\n      and is_deleted=false\n),\n\nmembers as (\n    select \n        campaign_id,\n        contact_id        \n    from staging.salesforce.stg_salesforce__campaign_member\n    where is_deleted=false\n),\n\nfull_campaigns as (\n    select \n        c.*,\n        m.contact_id\n    from campaigns c\n    inner join members m \n        on m.campaign_id=c.campaign_id\n),\n\ncontacts as (\n    select \n        id || account_id as contact_key,\n        id as contact_id,\n        account_id as contact_account_id,\n        name as contact_name,\n        contact_status_c as contact_status,\n        contact_owner_id \n    from staging.intermediate.int_salesforce__contact\n    where is_deleted=false\n),\n\ncontacts_final as (\n    select \n        c.contact_key as contact_account_key,\n        c.contact_key as contact_referred_account_key,\n        c.contact_id,\n        c.contact_name,\n        c.contact_account_id,\n        c.contact_status,\n        c.contact_owner_id,\n        f.campaign_id,\n        f.campaign_name,\n        f.campaign_start_date,\n        f.campaign_end_date\n    from contacts c \n    left join full_campaigns f\n        on c.contact_id=f.contact_id\n)\n\nselect * from contacts_final",
   "execution_count": null,
   "outputs": []
  },
  {
   "cell_type": "markdown",
   "id": "ea88e4cf-1f4c-443c-82d5-babe70a0a036",
   "metadata": {
    "name": "cell3",
    "collapsed": false
   },
   "source": "# Step 2 - Get all Portfolio accounts, their Opportunities and their referring accounts\n## For Accounts, get create dates and referred by data \n## For the opps, get their current stage and create date and referred by data"
  },
  {
   "cell_type": "code",
   "id": "bc22e681-69a5-46e6-a091-dc989f39b20d",
   "metadata": {
    "language": "sql",
    "name": "cell4"
   },
   "outputs": [],
   "source": "with\nrecord_types as (\n    select * from staging.salesforce.stg_salesforce__record_type\n    where is_active=true\n),\n\naccounts as (\n    select * from staging.intermediate.int_salesforce__account\n    where is_deleted=false\n),\n\ncontacts as (\n    select * from staging.intermediate.int_salesforce__contact\n    where is_deleted=false\n),\n\nopportunities as (\n    select * from staging.intermediate.int_salesforce__opportunity\n    where is_deleted=false\n),\n\nopportunity_histories as (\n    select * from staging.salesforce.stg_salesforce__opportunity_history\n    where is_deleted=false\n),\n\nget_portforlio_accounts as (\n    select \n        a.id as portfolio_account_id,\n        a.name as portfolio_account_name,\n        cast(a.created_date as date) as portfolio_account_created_date,\n        to_char(a.created_date, 'YYYY-MM') as portfolio_account_created_month,\n        to_char(a.created_date, 'YYYY') as portfolio_account_created_year,\n        case\n            when a.referring_entity_c is null and c.account_id is null \n            then null\n            else coalesce(a.referring_entity_c, c.account_id, 'XXXXXXXXXXXXXXXXXX') \n        end as portfolio_account_referring_account_id,\n        a.referring_entity_contact_c as portfolio_account_referring_contact_id,\n        r.name as portfolio_account_record_type\n    from accounts a\n    left join contacts c on c.id=a.referring_entity_contact_c\n    left join record_types r on r.id=a.record_type_id and r.sobject_type='Account' and r.is_active=true\n    -- where a.record_type_id in (\n    --     select rt.id \n    --     from record_types rt\n    --     where rt.sobject_type='Account'\n    --       and rt.name='Portfolio Company'\n    --   )\n      --and a.referring_entity_c is null and a.referring_entity_contact_c is not null\n),\n\nget_all_accounts as (\n    select \n        a.id as account_id,\n        a.name as account_name,\n        cast(a.created_date as date) as account_created_date,\n        to_char(a.created_date, 'YYYY-MM') as account_created_month,\n        to_char(a.created_date, 'YYYY') as account_created_year,\n        r.name as account_record_type\n    from accounts a\n    left join record_types r on r.id=a.record_type_id and r.sobject_type='Account' and r.is_active=true\n),\n\nopportunity_stages as (\n    select\n        opportunity_id,\n        stage_name,\n        date(created_date) as stage_created_date,\n        row_number() over (\n            partition by opportunity_id\n            order by created_date desc\n        ) as rn\n    from opportunity_histories\n),\n\nopportunity_current_stage as (\n    select \n        opportunity_id,\n        stage_name as current_stage,\n        stage_created_date\n    from opportunity_stages\n    where rn=1\n),\n\nopportunity_columns as (\n    select\n        o.id as opportunity_id,\n        o.name as opportunity_name,\n        o.account_id as opportunity_account_id,\n        s.current_stage as opportunity_current_stage,\n        o.contact_id as opportunity_contact_id,\n        o.referral_contact_c as opportunity_referring_contact_id,\n        case\n            when o.referral_source_c is null and c.account_id is null \n            then null \n            else coalesce(o.referral_source_c, c.account_id, 'XXXXXXXXXXXXXXXXXX') \n        end as opportunity_referring_account_id,\n        date(o.created_date) as opportunity_created_date,\n        to_varchar(o.created_date, 'YYYY-MM') as opportunity_created_month,\n        to_varchar(o.created_date, 'YYYY') as opportunity_created_year,\n        date(s.stage_created_date) as opportunity_stage_created_date,\n        to_varchar(s.stage_created_date, 'YYYY-MM') as opportunity_stage_created_month,\n        to_varchar(s.stage_created_date, 'YYYY') as opportunity_stage_created_year\n    from opportunities o\n    left join opportunity_current_stage s on s.opportunity_id=o.id\n    left join contacts c on c.id=o.referral_contact_c\n),\n\nportfolio_accounts_opportunities as (\n    select\n        a.portfolio_account_id,\n        a.portfolio_account_name,\n        a.portfolio_account_created_date,\n        a.portfolio_account_created_month,\n        a.portfolio_account_created_year,\n        a.portfolio_account_referring_account_id,\n        a.portfolio_account_referring_contact_id,\n        a.portfolio_account_record_type,\n        o.opportunity_id,\n        o.opportunity_name,\n        o.opportunity_account_id,\n        o.opportunity_current_stage,\n        o.opportunity_contact_id,\n        o.opportunity_referring_contact_id,\n        o.opportunity_referring_account_id,\n        o.opportunity_created_date,\n        o.opportunity_created_month,\n        o.opportunity_created_year,\n        o.opportunity_stage_created_date,\n        o.opportunity_stage_created_month,\n        o.opportunity_stage_created_year\n    from get_portforlio_accounts a\n    left join opportunity_columns o on o.opportunity_account_id=a.portfolio_account_id\n),\n\nfinal as (\n    select \n        a.account_id,\n        a.account_name,\n        p.portfolio_account_id,\n        p.portfolio_account_name,\n        p.opportunity_account_id,\n        p.opportunity_id,\n        p.opportunity_name,\n        p.portfolio_account_referring_account_id,\n        p.portfolio_account_referring_contact_id,\n        p.opportunity_referring_contact_id,\n        p.opportunity_referring_account_id,\n        a.account_created_date,\n        a.account_created_month,\n        a.account_created_year,\n        a.account_record_type,\n        p.portfolio_account_created_date,\n        p.portfolio_account_created_month,\n        p.portfolio_account_created_year,\n        p.portfolio_account_record_type,\n        p.opportunity_current_stage,\n        p.opportunity_contact_id,\n        p.opportunity_created_date,\n        p.opportunity_created_month,\n        p.opportunity_created_year,\n        p.opportunity_stage_created_date,\n        p.opportunity_stage_created_month, \n        p.opportunity_stage_created_year\n    from get_all_accounts a\n    left join portfolio_accounts_opportunities p on a.account_id=p.portfolio_account_id\n)\n\nselect count(distinct opportunity_id) from final\n--order by opportunity_name\n--where opportunity_id is not null\n-- where portfolio_account_referring_account_id is not null\n--   and account_id='0010W00002PsiN1QAJ'\n\n-- now join the ",
   "execution_count": null
  }
 ]
}