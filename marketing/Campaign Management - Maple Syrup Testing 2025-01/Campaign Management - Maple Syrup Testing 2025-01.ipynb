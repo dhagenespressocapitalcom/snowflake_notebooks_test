{
 "metadata": {
  "kernelspec": {
   "display_name": "Streamlit Notebook",
   "name": "streamlit"
  },
  "lastEditStatus": {
   "notebookId": "mifcjeaannsvjgsz5y7t",
   "authorId": "114522270066",
   "authorName": "DHAGENESPRESSOCAPITALCOM",
   "authorEmail": "dhagen@espressocapital.com",
   "sessionId": "6a7ee0f9-9ea5-4de3-ae76-8d657e4e76be",
   "lastEditTime": 1739648390584
  }
 },
 "nbformat_minor": 5,
 "nbformat": 4,
 "cells": [
  {
   "cell_type": "markdown",
   "id": "98e4ee63-1937-4ecd-8987-b67be5cfef58",
   "metadata": {
    "name": "cell3",
    "collapsed": false
   },
   "source": "## Informational\n### Show all Maple Syrup Campaigns"
  },
  {
   "cell_type": "code",
   "id": "8d50cbf4-0c8d-4950-86cb-114990437ac9",
   "metadata": {
    "language": "sql",
    "name": "capaigns",
    "collapsed": false
   },
   "source": "-- CAMPAIGN only maple syrup capaigns\nselect *\nfrom staging.salesforce.stg_salesforce__campaign\nwhere name rlike '^[0-9]{4}\\\\s+.*\\\\b[Mm][Aa][Pp][Ll][Ee]\\\\b.*\\\\b[Ss][Yy][Rr][Uu][Pp]\\\\b.*$'\n  and is_deleted=false",
   "execution_count": null,
   "outputs": []
  },
  {
   "cell_type": "markdown",
   "id": "dffb0c68-5666-4231-8e8b-06c6a7828544",
   "metadata": {
    "name": "cell4",
    "collapsed": false
   },
   "source": "## Informational\n### Show Campaign Members"
  },
  {
   "cell_type": "code",
   "id": "8b6434f7-2316-4b99-8f16-d804db43ef22",
   "metadata": {
    "language": "sql",
    "name": "capaign_members",
    "collapsed": false
   },
   "outputs": [],
   "source": "select *\nfrom staging.salesforce.stg_salesforce__campaign_member\nwhere is_deleted=false",
   "execution_count": null
  },
  {
   "cell_type": "markdown",
   "id": "10d2c71a-acf3-4712-957a-476c050f6934",
   "metadata": {
    "name": "cell5",
    "collapsed": false
   },
   "source": "# Step 1\n## Merge Capaign Members with Campaigns"
  },
  {
   "cell_type": "code",
   "id": "9daf2ef6-6cf2-4427-a80e-bbe263c912af",
   "metadata": {
    "language": "sql",
    "name": "merge_campaign_data",
    "collapsed": false
   },
   "outputs": [],
   "source": "-- CAPAIGN ALL\nwith\ncampaigns as (\n    -- still only looking at Maple Syrup campaigns ... for now.\n    select \n        id as campaign_id,\n        name as campaign_name,\n        start_date as campaign_start_date,\n        end_date as campaign_end_date\n    from staging.salesforce.stg_salesforce__campaign\n    where name rlike '^[0-9]{4}\\\\s+.*\\\\b[Mm][Aa][Pp][Ll][Ee]\\\\b.*\\\\b[Ss][Yy][Rr][Uu][Pp]\\\\b.*$'\n      and is_deleted=false\n),\n\nmembers as (\n    select \n        campaign_id,\n        contact_id        \n    from staging.salesforce.stg_salesforce__campaign_member\n    where is_deleted=false\n),\n\nfinal as (\n    select \n        c.*,\n        m.contact_id\n    from campaigns c\n    inner join members m \n        on m.campaign_id=c.campaign_id\n)\n\nselect * from final\norder by campaign_start_date, contact_id ",
   "execution_count": null
  },
  {
   "cell_type": "code",
   "id": "5fcec0ea-10fc-498f-b79b-5769ad327219",
   "metadata": {
    "language": "sql",
    "name": "contact_data",
    "collapsed": false
   },
   "outputs": [],
   "source": "with \ncontacts as (\n    select *\n    from staging.intermediate.int_salesforce__contact\n    where is_deleted=false\n),\n\naccounts as (\n    select *\n    from staging.intermediate.int_salesforce__account\n    where is_deleted=false\n),\n\nall_contacts as (\n    select \n        c.id as contact_id,\n        c.account_id as account_id,\n        c.name as contact_name,\n        c.contact_status_c as contact_status,\n        c.contact_owner_id,\n        c.contact_owner_name,\n        c.referred_by_c as contact_referring_contact_id,\n        r.account_id as contact_referring_account_id,\n        r.name as contact_referring_contact_name\n    from contacts c\n    left join contacts r\n        on r.id=c.referred_by_c\n),\n\ncontacts_add_account as (\n    select \n        c.*,\n        a.name as account_name,\n        case \n            when a1.name=a.name then null else a1.name\n        end as contact_referring_account_name\n    from all_contacts c\n    left join accounts a \n        on a.id=c.account_id\n    left join accounts a1\n        on a1.id=c.contact_referring_account_id\n),\n\ncontacts_final as (\n    select \n        contact_id,\n        account_id,\n        contact_referring_contact_id,\n        contact_referring_account_id,\n        contact_owner_id,\n        contact_name,\n        contact_status,\n        account_name as contact_account_name,\n        contact_owner_name,\n        contact_referring_contact_name,\n        contact_referring_account_name\n    from contacts_add_account\n)\n\nselect * from contacts_final\n",
   "execution_count": null
  },
  {
   "cell_type": "markdown",
   "id": "1dc4cb13-ec3d-4499-8b44-af1ef3b54345",
   "metadata": {
    "name": "cell14",
    "collapsed": false
   },
   "source": "## One more time with feeling\n#### All Contact/Maple Syrup Campaigns"
  },
  {
   "cell_type": "code",
   "id": "22a727e5-f9a2-4967-a968-89172b7d8ad3",
   "metadata": {
    "language": "sql",
    "name": "accounts",
    "collapsed": false
   },
   "outputs": [],
   "source": "-- collect everything we're going to need with an account.\nwith\naccounts as (\n    select *\n    from staging.intermediate.int_salesforce__account\n),\n\ncontacts as (\n    select \n        id as contact_id,\n        account_id as contact_account_id,\n        name as contact_name,\n        contact_status_c as contact_status,\n        referred_by_c as contact_referred_by,\n        contact_owner_id -- *    \n    from staging.intermediate.int_salesforce__contact\n    where is_deleted=false\n),\n\nget_columns as (\n    select\n        a.id as account_id,\n        a.name as account_name,\n        a.industry as account_industry,\n        a.account_owner_id,\n        a.account_owner_name,\n        a.record_type_name as account_record_type_name,\n        a.record_type_sobject_type as account_sobject_type_name,\n        a.priority_c as account_priority,\n        a.fund_of_fund_c as account_fund_of_fund,\n        a.saas_non_saas_c as account_saas_non_saas,\n        a.vc_strategy_c as account_vc_strategy,\n        a.referring_entity_c as account_referring_account_id,\n        a.referring_entity_contact_c as account_referring_contact_id,\n        c.contact_name as account_referring_contact_name,\n        a.key_intermediary_c as account_key_intermediary,\n        date(a.created_date) as account_created_date\n    from accounts a\n    left join contacts c\n        on c.contact_id=a.referring_entity_contact_c\n),\n\nfinal as (\n    select \n        a.*,\n        r.account_name as account_referring_entity_name\n    from get_columns a\n    left join get_columns r\n        on a.account_referring_account_id=r.account_id\n)\n\nselect * from final\nwhere account_referring_contact_id is not null",
   "execution_count": null
  },
  {
   "cell_type": "code",
   "id": "426c5afe-25e9-47c3-92b6-12b1b58d889c",
   "metadata": {
    "language": "sql",
    "name": "opportunities",
    "collapsed": false
   },
   "outputs": [],
   "source": "-- gather all necessary data for opportunity\nwith\nopps as (\n    select *\n    from staging.intermediate.int_salesforce__opportunity\n),\n\nget_columns as (\n    select\n        id as opportunity_id,\n        name as opportunity_name,\n        account_id,\n        stage_name as opportunity_stage_name,\n        type as opportunity_type,\n        owner_id as opportunity_owner_id,\n        opportunity_owner_name,\n        contact_id as opportunity_contact_id,\n        lead_type_c as opportunity_lead_type,\n        referral_contact_c as opportunity_referring_contact_id,\n        referral_source_c as opportunity_referring_account_id,\n        date(created_date) as opportunity_created_date\n    from opps\n)\n\nselect * from get_columns",
   "execution_count": null
  },
  {
   "cell_type": "markdown",
   "id": "c6d3d42d-0142-4a1b-a6ae-7c9e1f51da8a",
   "metadata": {
    "name": "cell6",
    "collapsed": false
   },
   "source": "# Step 2\n## Show Opportunities and Their Current Stage"
  },
  {
   "cell_type": "code",
   "id": "57e662f9-f902-435b-b321-218ee5b35e0e",
   "metadata": {
    "language": "sql",
    "name": "opportunity_current_stage",
    "collapsed": false
   },
   "outputs": [],
   "source": "-- get latest opportunity stage\nwith\nopp as (\n    select * from staging.intermediate.int_salesforce__opportunity\n),\n\nopphist as (\n    select *\n    from staging.salesforce.stg_salesforce__opportunity_history\n),\n\nstages as (\n    select\n        opportunity_id,\n        stage_name,\n        date(created_date) as stage_created_date,\n        row_number() over (\n            partition by opportunity_id\n            order by created_date desc\n        ) as rn\n    from opphist\n),\n\ncurrent_stage as (\n    select \n        opportunity_id,\n        stage_name as current_stage,\n        stage_created_date\n    from stages\n    where rn=1\n),\n\nopp_create_date as (\n    select \n        id as opportunity_id,\n        date(created_date) as opp_created_date\n    from opp\n),\n\nfinal as (\n    select \n        s.opportunity_id,\n        s.current_stage,\n        s.stage_created_date,\n        o.opp_created_date\n    from current_stage s\n    inner join opp_create_date o on o.opportunity_id=s.opportunity_id\n)\n\nselect * from final",
   "execution_count": null
  },
  {
   "cell_type": "code",
   "id": "9b559826-a585-4605-879d-17e7ef72d8ea",
   "metadata": {
    "language": "sql",
    "name": "opportunities_and_current_stage"
   },
   "outputs": [],
   "source": "-- get the full opportunity output\nwith\nopps as (\n    select *\n    from staging.intermediate.int_salesforce__opportunity\n),\n\nopphist as (\n    select *\n    from staging.salesforce.stg_salesforce__opportunity_history\n),\n\naccounts as (\n    select \n        id as account_id,\n        name as account_name\n    from staging.intermediate.int_salesforce__account\n),\n\ncontacts as (\n    select \n        id as contact_id,\n        name as contact_name\n    from staging.intermediate.int_salesforce__contact\n),\n\nopp_columns as (\n    select\n        id as opportunity_id,\n        name as opportunity_name,\n        account_id,\n        stage_name as opportunity_stage_name,\n        type as opportunity_type,\n        owner_id as opportunity_owner_id,\n        opportunity_owner_name,\n        contact_id as opportunity_contact_id,\n        -- lead_type_c as opportunity_lead_type,\n        referral_contact_c as opportunity_referring_contact_id,\n        referral_source_c as opportunity_referring_account_id,\n        date(created_date) as opportunity_created_date\n    from opps\n),\n\nstages as (\n    select\n        opportunity_id,\n        stage_name,\n        date(created_date) as stage_created_date,\n        row_number() over (\n            partition by opportunity_id\n            order by created_date desc\n        ) as rn\n    from opphist\n),\n\ncurrent_stage as (\n    select \n        opportunity_id,\n        stage_name as current_stage,\n        stage_created_date\n    from stages\n    where rn=1\n),\n\nopps_merge as (\n    select \n        --o.*,\n        o.account_id,\n        oa.account_name,\n        o.opportunity_id,\n        o.opportunity_name,\n        o.opportunity_stage_name,\n        o.opportunity_type,\n        o.opportunity_owner_name,\n        o.opportunity_contact_id,\n        o.opportunity_referring_contact_id,\n        o.opportunity_referring_account_id,\n        a.account_name as opportunity_referring_account_name,\n        o.opportunity_created_date,\n        a.account_name as opportunity_referring_account_name,\n        c.contact_name as opportunity_referring_contact_name,\n        coalesce(s.stage_created_date,o.opportunity_created_date) as stage_created_date,\n        coalesce(s.current_stage,'Open') as current_stage\n    from opp_columns o\n    left join current_stage s \n        on s.opportunity_id=o.opportunity_id\n    left join accounts oa\n        on o.account_id=oa.account_id\n    left join accounts a\n        on o.opportunity_referring_account_id=a.account_id\n    left join contacts c\n        on o.opportunity_referring_contact_id=c.contact_id\n)\n\nselect * from opps_merge",
   "execution_count": null
  },
  {
   "cell_type": "markdown",
   "id": "4b042277-d1c9-40fd-9057-5a3f0d4fea8a",
   "metadata": {
    "name": "cell1",
    "collapsed": false
   },
   "source": "# Step 3\n## Get Account and Referring Account"
  },
  {
   "cell_type": "code",
   "id": "1e741e1d-29b3-469c-be96-99b4871d69f3",
   "metadata": {
    "language": "sql",
    "name": "get_account_and_referring_account",
    "collapsed": false
   },
   "outputs": [],
   "source": "with\nacc as (\n    select * from staging.intermediate.int_salesforce__account\n    where is_deleted=false\n),\n\nget_acc_columns as (\n    select \n        id as account_id,\n        name as account_name,\n        -- other columns\n        referring_entity_c as account_referring_account,\n        referring_entity_contact_c as account_referring_contact_id\n    from acc\n    where is_deleted=false\n),\n\ncont as (\n    select\n        id as contact_id,\n        account_id as contact_account_id\n    from staging.intermediate.int_salesforce__contact\n),\n\norphan_acc as (\n    select\n        a.account_id,\n        a.account_name,\n        coalesce(a.account_referring_account,c.contact_account_id) as account_referring_account,\n        a.account_referring_contact_id\n    from get_acc_columns a\n    left join cont c on c.contact_id=a.account_referring_contact_id\n)\n\n\nselect * from orphan_acc\n-- where account_referring_contact_id is not null",
   "execution_count": null
  },
  {
   "cell_type": "markdown",
   "id": "996d1014-2d4d-4df7-a607-a2820e9524e0",
   "metadata": {
    "name": "cell7",
    "collapsed": false
   },
   "source": "# Step 4\n## Align Opportunity with Referring Account and Referring Contact"
  },
  {
   "cell_type": "code",
   "id": "ade6b199-ab5a-4f9f-8ec3-354305cf07eb",
   "metadata": {
    "language": "sql",
    "name": "cell8"
   },
   "outputs": [],
   "source": "with \nopp as (\n    select * from staging.intermediate.int_salesforce__opportunity\n    where is_deleted=false\n),\n\nacc as (\n    select * from staging.intermediate.int_salesforce__account\n),\n\ncont as (\n    select\n        id as contact_id,\n        account_id as contact_account_id\n    from staging.intermediate.int_salesforce__contact\n),\n\nget_acc_columns as (\n    select \n        id as account_id,\n        name as account_name,\n        referring_entity_c as acc_referring_account,\n        referring_entity_contact_c as acc_referring_contact\n    from acc\n    where is_deleted=false\n),\n\nget_opp_columns as (\n    select \n        o.id as opportunity,\n        o.account_id as opp_account,\n        o.contact_id as opp_contact,\n        o.referral_contact_c as opp_referring_contact,\n        -- o.referral_source_c as opp_referring_account,\n        coalesce(o.referral_source_c,c.contact_account_id) as opp_referring_account\n        -- c.contact_id\n    from opp o\n    left join cont c \n        on c.contact_id=o.referral_contact_c\n    where o.is_deleted=false\n)\n\nselect * from get_opp_columns\n-- where opp_referring_contact is not null\n",
   "execution_count": null
  },
  {
   "cell_type": "code",
   "id": "f6899e2d-6638-447a-bf94-e89cc55ab4e1",
   "metadata": {
    "language": "sql",
    "name": "cell11"
   },
   "outputs": [],
   "source": "",
   "execution_count": null
  },
  {
   "cell_type": "markdown",
   "id": "42c82a99-067a-4211-97d6-e53f84c0b65d",
   "metadata": {
    "name": "cell2",
    "collapsed": false
   },
   "source": "# Final Step\n## Pulling it all Together"
  },
  {
   "cell_type": "code",
   "id": "66a9f067-cd75-4ebf-8758-c54a800f3dd4",
   "metadata": {
    "language": "sql",
    "name": "add_member_contacts"
   },
   "outputs": [],
   "source": "-- CAPAIGN ALL\nwith\ncampaigns as (\n    select \n        id as campaign_id,\n        name as campaign_name,\n        'Yes' as is_maple_syrup,\n        start_date as campaign_start_date,\n        end_date as campaign_end_date\n    from staging.salesforce.stg_salesforce__campaign\n    -- doesn't support (?i) syntax :(\n    where name rlike '^[0-9]{4}\\\\s+.*\\\\b[Mm][Aa][Pp][Ll][Ee]\\\\b.*\\\\b[Ss][Yy][Rr][Uu][Pp]\\\\b.*$'\n      and is_deleted=false\n),\n\nmembers as (\n    select \n        campaign_id,\n        contact_id        \n    from staging.salesforce.stg_salesforce__campaign_member\n    where is_deleted=false\n),\n\ntotal_members as (\n    select \n        campaign_id,\n        count(distinct contact_id) as total_campaign_members\n    from members\n    group by campaign_id\n),\n\nfull_campaigns as (\n    select \n        c.*,\n        t.total_campaign_members,\n        m.contact_id\n    from campaigns c\n    inner join total_members t\n        on t.campaign_id=c.campaign_id\n    inner join members m \n        on m.campaign_id=c.campaign_id\n),\n\ncontacts as (\n    select \n        id as contact_id,\n        account_id as contact_account_id,\n        id || account_id as contact_key,\n        name as contact_name,\n        contact_status_c as contact_status,\n        contact_owner_id \n    from staging.intermediate.int_salesforce__contact\n    where is_deleted=false\n),\n\nfinal as (\n    -- want to get all contacts, and flag those that are part of the maple campaigns.\n    select \n        c.contact_key as contact_account_key,\n        c.contact_key as contact_referred_account_key,\n        c.contact_id,\n        c.contact_name,\n        c.contact_account_id,\n        c.contact_status,\n        c.contact_owner_id,\n        f.campaign_id,\n        f.campaign_name,\n        f.campaign_start_date,\n        f.campaign_end_date\n    from contacts c \n    left join full_campaigns f\n        on c.contact_id=f.contact_id\n)\n\nselect * from final\nwhere campaign_id is not null\norder by \n    campaign_start_date, contact_id \n",
   "execution_count": null
  },
  {
   "cell_type": "code",
   "id": "3abcbfe8-776e-49fe-87d7-f6052b7051d3",
   "metadata": {
    "language": "sql",
    "name": "cell9"
   },
   "outputs": [],
   "source": "with\nsrc_campaigns as (\n    select * from staging.salesforce.stg_salesforce__campaign\n    where is_deleted=false\n),\n\nsrc_members as (\n    select * from staging.salesforce.stg_salesforce__campaign_member\n),\n\nsrc_contacts as (\n    select * from staging.intermediate.int_salesforce__contact\n    where is_deleted=false\n),\n\nsrc_opportunities as (\n    select * from staging.intermediate.int_salesforce__opportunity\n    where is_deleted=false\n),\n\nsrc_accounts as (\n    select * from staging.intermediate.int_salesforce__account\n    where is_deleted=false\n),\n\nsrc_opportunities_histories as (\n    select * from staging.salesforce.stg_salesforce__opportunity_history\n    where is_deleted=false\n),\n\ncampaigns as (\n    -- still only looking at Maple Syrup campaigns ... for now.\n    select \n        id as campaign_id,\n        name as campaign_name,\n        start_date as campaign_start_date,\n        end_date as campaign_end_date\n    from src_campaigns\n    where name rlike '^[0-9]{4}\\\\s+.*\\\\b[Mm][Aa][Pp][Ll][Ee]\\\\b.*\\\\b[Ss][Yy][Rr][Uu][Pp]\\\\b.*$'\n      and is_deleted=false\n),\n\nmembers as (\n    select \n        campaign_id,\n        contact_id   \n    from src_members\n    where is_deleted=false\n),\n\nfinal_members as (\n    select \n        c.campaign_id,\n        c.campaign_name,\n        c.campaign_start_date,\n        c.campaign_end_date,\n        m.contact_id as campaign_member_contact_id,\n        ct.name as campaign_member_contact_name,\n        ct.account_id as campaign_member_account_id,\n        a.name as campaign_member_account_name\n    from campaigns c\n    inner join members m \n        on m.campaign_id=c.campaign_id\n    left join src_contacts ct\n        on ct.id=m.contact_id\n    left join src_accounts a\n        on a.id=ct.account_id\n),\n\nopp_stages as (\n    select\n        opportunity_id,\n        stage_name,\n        date(created_date) as stage_created_date,\n        row_number() over (\n            partition by opportunity_id\n            order by created_date desc\n        ) as rn\n    from src_opportunities_histories\n),\n\nopp_current_stage as (\n    select \n        opportunity_id,\n        stage_name as current_stage,\n        stage_created_date\n    from opp_stages\n    where rn=1\n),\n\nopp_create_date as (\n    select \n        id as opportunity_id,\n        date(created_date) as opportunity_created_date,\n        account_id as opportunity_account_id,\n        name as opportunity_name,\n        referral_source_c as opportunity_referring_account_id,\n        referral_contact_c as opportunity_referring_contact_id  \n    from src_opportunities\n),\n\nopp_add_referal_contacts as (\n    select \n        s.opportunity_id,\n        o.opportunity_name,\n        s.current_stage as opportunity_current_stage,\n        s.stage_created_date as opportunity_stage_created_date,\n        o.opportunity_created_date,\n        o.opportunity_account_id,\n        coalesce(o.opportunity_referring_account_id,c.account_id) as opportunity_referring_account_id,\n        o.opportunity_referring_contact_id,\n        c.name as opportunity_referring_contact_name\n    from opp_current_stage s\n    inner join opp_create_date o \n        on o.opportunity_id=s.opportunity_id\n    left join src_contacts c\n        on c.id=o.opportunity_referring_contact_id\n),\n\nfinal_opportunities as (\n    select \n        o.opportunity_id,\n        o.opportunity_name,\n        o.opportunity_current_stage,\n        o.opportunity_stage_created_date,\n        o.opportunity_created_date,\n        o.opportunity_account_id,\n        a.name as opportunity_account_name,\n        o.opportunity_referring_account_id,\n        ra.name as opportunity_referring_account_name,\n        o.opportunity_referring_contact_id,\n        o.opportunity_referring_contact_name\n    from opp_add_referal_contacts o\n    inner join src_accounts a\n        on a.id=o.opportunity_account_id\n    left join src_accounts ra\n        on ra.id=o.opportunity_referring_account_id\n),\n\npre_final as (\n    select \n        o.opportunity_id,\n        o.opportunity_name,\n        o.opportunity_current_stage,\n        o.opportunity_stage_created_date,\n        o.opportunity_created_date,\n        o.opportunity_account_id,\n        o.opportunity_account_name,\n        o.opportunity_referring_account_id,\n        o.opportunity_referring_account_name,\n        o.opportunity_referring_contact_id,\n        o.opportunity_referring_contact_name,\n        m0.campaign_id,\n        m0.campaign_name,\n        m0.campaign_start_date,\n        m0.campaign_end_date,\n        m0.campaign_member_contact_id,\n        m0.campaign_member_contact_name,\n        case\n            when m0.campaign_member_contact_id is not null then 'direct' else 'none'\n        end as member_relationship_to_opp\n    from final_opportunities o\n    left join final_members m0\n        on m0.campaign_member_contact_id=opportunity_referring_contact_id\n        \n    union all\n    \n    select \n        o.opportunity_id,\n        o.opportunity_name,\n        o.opportunity_current_stage,\n        o.opportunity_stage_created_date,\n        o.opportunity_created_date,\n        o.opportunity_account_id,\n        o.opportunity_account_name,\n        o.opportunity_referring_account_id,\n        o.opportunity_referring_account_name,\n        o.opportunity_referring_contact_id,\n        o.opportunity_referring_contact_name,\n        m0.campaign_id,\n        m0.campaign_name,\n        m0.campaign_start_date,\n        m0.campaign_end_date,\n        m0.campaign_member_contact_id,\n        m0.campaign_member_contact_name,\n        'indirect' as member_relationship_to_opp\n    from final_opportunities o\n    inner join final_members m0\n        on (m0.campaign_member_account_id=opportunity_referring_account_id and m0.campaign_member_contact_id<>opportunity_referring_contact_id)\n),\n\nfinal as ( \n    select\n        *,\n        to_char(opportunity_created_date, 'YYYY-MM') as opportunity_created_yyyy_mm,\n        to_char(opportunity_created_date, 'YYYY') as opportunity_created_yyyy\n    from pre_final\n)\n\nselect * from final \nwhere opportunity_referring_account_id is not null\n  and campaign_member_contact_name='Steven Abrams'",
   "execution_count": null
  },
  {
   "cell_type": "code",
   "id": "ec288d8d-bc93-464b-83e9-e1f8e1036388",
   "metadata": {
    "language": "sql",
    "name": "cell10"
   },
   "outputs": [],
   "source": "-- CAPAIGN ALL\nwith\n-- define sources\nsrc_campaigns as (\n    select * from staging.salesforce.stg_salesforce__campaign\n    where is_deleted=false\n),\n\nsrc_members as (\n    select * from staging.salesforce.stg_salesforce__campaign_member\n),\n\nsrc_contacts as (\n    select * from staging.intermediate.int_salesforce__contact\n    where is_deleted=false\n),\n\nsrc_opportunities as (\n    select * from staging.intermediate.int_salesforce__opportunity\n    where is_deleted=false\n),\n\nsrc_accounts as (\n    select * from staging.intermediate.int_salesforce__account\n    where is_deleted=false\n),\n\nsrc_opportunities_histories as (\n    select * from staging.salesforce.stg_salesforce__opportunity_history\n    where is_deleted=false\n),\n\ncampaigns as (\n    -- still only looking at Maple Syrup campaigns ... for now.\n    select \n        id as campaign_id,\n        name as campaign_name,\n        start_date as campaign_start_date,\n        end_date as campaign_end_date\n    from src_campaigns\n    where name rlike '^[0-9]{4}\\\\s+.*\\\\b[Mm][Aa][Pp][Ll][Ee]\\\\b.*\\\\b[Ss][Yy][Rr][Uu][Pp]\\\\b.*$'\n      and is_deleted=false\n),\n\nmembers as (\n    select \n        campaign_id,\n        contact_id   \n    from src_members\n    where is_deleted=false\n),\n\nfinal_members as (\n    select \n        c.campaign_id,\n        c.campaign_name,\n        c.campaign_start_date,\n        c.campaign_end_date,\n        m.contact_id as campaign_member_contact_id,\n        ct.name as campaign_member_contact_name,\n        ct.account_id as campaign_member_account_id,\n        a.name as campaign_member_account_name\n    from campaigns c\n    inner join members m \n        on m.campaign_id=c.campaign_id\n    left join src_contacts ct\n        on ct.id=m.contact_id\n    left join src_accounts a\n        on a.id=ct.account_id\n),\n\n-- validation for final_members\n-- select * from final_members\n\n-- do the account stuff here.\nacc_get_columns as (\n    select \n        id as account_id,\n        name as account_name,\n        -- other columns\n        referring_entity_c as account_referring_account,\n        referring_entity_contact_c as account_referring_contact_id\n    from src_accounts\n    where is_deleted=false\n),\n\nacc_contacts as (\n    select\n        id as contact_id,\n        account_id as contact_account_id\n    from src_contacts\n),\n\nacc_orphan_acc as (\n    select\n        a.account_id,\n        a.account_name,\n        coalesce(a.account_referring_account,c.contact_account_id) as account_referring_account_id,\n        a.account_referring_contact_id\n    from acc_get_columns a\n    left join acc_contacts c \n        on c.contact_id=a.account_referring_contact_id\n),\n\nfinal_accounts as (\n    select\n        a.account_id,\n        a.account_name,\n        a.account_referring_account_id,\n        ar.account_name as account_referring_account_name,\n        a.account_referring_contact_id,\n        c.name as account_referring_contact_name\n    from acc_orphan_acc a\n    left join acc_get_columns ar\n        on ar.account_id=a.account_referring_account_id\n    left join src_contacts c\n        on c.id=a.account_referring_contact_id\n    \n),\n\n-- select * from final_accounts\n\n-- add opportunities now\n-- starting with all opps and stages.\nopp_stages as (\n    select\n        opportunity_id,\n        stage_name,\n        date(created_date) as stage_created_date,\n        row_number() over (\n            partition by opportunity_id\n            order by created_date desc\n        ) as rn\n    from src_opportunities_histories\n),\n\nopp_current_stage as (\n    select \n        opportunity_id,\n        stage_name as current_stage,\n        stage_created_date\n    from opp_stages\n    where rn=1\n),\n\nopp_create_date as (\n    select \n        id as opportunity_id,\n        date(created_date) as opportunity_created_date,\n        account_id as opportunity_account_id,\n        name as opportunity_name,\n        referral_source_c as opportunity_referring_account_id,\n        referral_contact_c as opportunity_referring_contact_id  \n    from src_opportunities\n),\n\nopp_add_referal_contacts as (\n    select \n        s.opportunity_id,\n        o.opportunity_name,\n        s.current_stage as opportunity_current_stage,\n        s.stage_created_date as opportunity_stage_created_date,\n        o.opportunity_created_date,\n        o.opportunity_account_id,\n        coalesce(o.opportunity_referring_account_id,c.account_id) as opportunity_referring_account_id,\n        o.opportunity_referring_contact_id,\n        c.name as opportunity_referring_contact_name\n    from opp_current_stage s\n    inner join opp_create_date o \n        on o.opportunity_id=s.opportunity_id\n    left join src_contacts c\n        on c.id=o.opportunity_referring_contact_id\n),\n\nfinal_opportunities as (\n    select \n        o.opportunity_id,\n        o.opportunity_name,\n        o.opportunity_current_stage,\n        o.opportunity_stage_created_date,\n        o.opportunity_created_date,\n        o.opportunity_account_id,\n        a.name as opportunity_account_name,\n        o.opportunity_referring_account_id,\n        ra.name as opportunity_referring_account_name,\n        o.opportunity_referring_contact_id,\n        o.opportunity_referring_contact_name\n    from opp_add_referal_contacts o\n    inner join src_accounts a\n        on a.id=o.opportunity_account_id\n    left join src_accounts ra\n        on ra.id=o.opportunity_referring_account_id\n),\n\n-- select * from final_opportunities\n-- where opportunity_referring_contact_id is not null\n\n-- I have 3 final tables that need to be brought together for one final table\n-- final_opportunities\n-- final_members\n-- final_accounts \n\ndirect as (\n    select \n        o.opportunity_id,\n        o.opportunity_name,\n        o.opportunity_current_stage,\n        o.opportunity_stage_created_date,\n        o.opportunity_created_date,\n        o.opportunity_account_id,\n        o.opportunity_account_name,\n        o.opportunity_referring_account_id,\n        o.opportunity_referring_account_name,\n        o.opportunity_referring_contact_id,\n        o.opportunity_referring_contact_name,\n        m0.campaign_id,\n        m0.campaign_name,\n        m0.campaign_start_date,\n        m0.campaign_end_date,\n        m0.campaign_member_contact_id,\n        m0.campaign_member_contact_name,\n        case\n            when m0.campaign_member_contact_id is not null then 'direct' else 'none'\n        end as member_relationship_to_opp\n    from final_opportunities o\n    inner join final_members m0\n        on m0.campaign_member_contact_id=opportunity_referring_contact_id\n),\n\nindirect as (\n    select \n        o.opportunity_id,\n        o.opportunity_name,\n        o.opportunity_current_stage,\n        o.opportunity_stage_created_date,\n        o.opportunity_created_date,\n        o.opportunity_account_id,\n        o.opportunity_account_name,\n        o.opportunity_referring_account_id,\n        o.opportunity_referring_account_name,\n        c.id as opportunity_referring_contact_id,\n        c.name as opportunity_referring_contact_name,\n        m0.campaign_id,\n        m0.campaign_name,\n        m0.campaign_start_date,\n        m0.campaign_end_date,\n        m0.campaign_member_contact_id,\n        m0.campaign_member_contact_name,\n        'indirect' as member_relationship_to_opp\n    from final_opportunities o\n    inner join final_members m0\n        on (m0.campaign_member_account_id=opportunity_referring_account_id and m0.campaign_member_contact_id<>o.opportunity_referring_contact_id)\n    left join src_contacts c\n        on c.account_id=o.opportunity_referring_account_id\n    where (o.opportunity_id, m0.campaign_id, c.id) \n        not in (select opportunity_id, campaign_id, campaign_member_contact_id from direct)\n),\n\nno_campaign as (\n    select \n        o.opportunity_id,\n        o.opportunity_name,\n        o.opportunity_current_stage,\n        o.opportunity_stage_created_date,\n        o.opportunity_created_date,\n        o.opportunity_account_id,\n        o.opportunity_account_name,\n        o.opportunity_referring_account_id,\n        o.opportunity_referring_account_name,\n        c.id as opportunity_referring_contact_id,\n        c.name as opportunity_referring_contact_name,\n        null as campaign_id,\n        null as campaign_name,\n        null as campaign_start_date,\n        null as campaign_end_date,\n        c.id as campaign_member_contact_id,\n        c.name as campaign_member_contact_name,\n        'none' as member_relationship_to_opp\n    from final_opportunities o\n    inner join src_contacts c\n        on c.account_id=o.opportunity_referring_account_id -- and c.id<>o.opportunity_referring_contact_id\n    where o.opportunity_id not in (select opportunity_id from direct)\n),\n\n-- pre_final as (\n--     select \n--         o.opportunity_id,\n--         o.opportunity_name,\n--         o.opportunity_current_stage,\n--         o.opportunity_stage_created_date,\n--         o.opportunity_created_date,\n--         o.opportunity_account_id,\n--         o.opportunity_account_name,\n--         o.opportunity_referring_account_id,\n--         o.opportunity_referring_account_name,\n--         o.opportunity_referring_contact_id,\n--         o.opportunity_referring_contact_name,\n--         m0.campaign_id,\n--         m0.campaign_name,\n--         m0.campaign_start_date,\n--         m0.campaign_end_date,\n--         m0.campaign_member_contact_id,\n--         m0.campaign_member_contact_name,\n--         case\n--             when m0.campaign_member_contact_id is not null then 'direct' else 'none'\n--         end as member_relationship_to_opp\n--     from final_opportunities o\n--     inner join final_members m0\n--         on m0.campaign_member_contact_id=opportunity_referring_contact_id\n        \n--     union all\n\n--     select \n--         o.opportunity_id,\n--         o.opportunity_name,\n--         o.opportunity_current_stage,\n--         o.opportunity_stage_created_date,\n--         o.opportunity_created_date,\n--         o.opportunity_account_id,\n--         o.opportunity_account_name,\n--         o.opportunity_referring_account_id,\n--         o.opportunity_referring_account_name,\n--         c.id as opportunity_referring_contact_id,\n--         c.name as opportunity_referring_contact_name,\n--         m0.campaign_id,\n--         m0.campaign_name,\n--         m0.campaign_start_date,\n--         m0.campaign_end_date,\n--         m0.campaign_member_contact_id,\n--         m0.campaign_member_contact_name,\n--         'indirect' as member_relationship_to_opp\n--     from final_opportunities o\n--     inner join final_members m0\n--         on (m0.campaign_member_account_id=opportunity_referring_account_id and m0.campaign_member_contact_id<>o.opportunity_referring_contact_id)\n--     left join src_contacts c\n--         on c.account_id=o.opportunity_referring_account_id\n\n--     union all\n\n--     select \n--         o.opportunity_id,\n--         o.opportunity_name,\n--         o.opportunity_current_stage,\n--         o.opportunity_stage_created_date,\n--         o.opportunity_created_date,\n--         o.opportunity_account_id,\n--         o.opportunity_account_name,\n--         o.opportunity_referring_account_id,\n--         o.opportunity_referring_account_name,\n--         c.id as opportunity_referring_contact_id,\n--         c.name as opportunity_referring_contact_name,\n--         null as campaign_id,\n--         null as campaign_name,\n--         null as campaign_start_date,\n--         null as campaign_end_date,\n--         c.id as campaign_member_contact_id,\n--         c.name as campaign_member_contact_name,\n--         'none' as member_relationship_to_opp\n--     from final_opportunities o\n--     inner join src_contacts c\n--         on c.account_id=o.opportunity_referring_account_id and c.id<>o.opportunity_referring_contact_id\n-- ),\n\nfinal as (\n    select\n        *,\n        to_char(opportunity_created_date, 'YYYY-MM') as opportunity_created_yyyy_mm,\n        to_char(opportunity_created_date, 'YYYY') as opportunity_created_yyyy\n    from no_campaign\n)\n\nselect * from final \n-- where opportunity_referring_account_id is not null\n--   and opportunity_referring_account_name='BDC Capital'\n  -- and opportunity\n  ",
   "execution_count": null
  },
  {
   "cell_type": "markdown",
   "id": "0b63b49c-d0c7-4205-8651-35cbe7ce512e",
   "metadata": {
    "name": "cell12",
    "collapsed": false
   },
   "source": "# Final with Changs"
  },
  {
   "cell_type": "code",
   "id": "1085707d-6f67-4e46-a997-cc528b22e58a",
   "metadata": {
    "language": "sql",
    "name": "cell13"
   },
   "outputs": [],
   "source": "with\nsrc_campaigns as (\n    select * from staging.salesforce.stg_salesforce__campaign\n    where is_deleted=false\n),\n\nsrc_members as (\n    select * from staging.salesforce.stg_salesforce__campaign_member\n),\n\nsrc_contacts as (\n    select * from staging.intermediate.int_salesforce__contact\n    where is_deleted=false\n),\n\nsrc_opportunities as (\n    select * from staging.intermediate.int_salesforce__opportunity\n    where is_deleted=false\n      and coalesce(sred_deal_c,true)=false\n      and name not ilike '%sred%'\n),\n\nsrc_accounts as (\n    select * from staging.intermediate.int_salesforce__account\n    where is_deleted=false\n),\n\nsrc_opportunities_histories as (\n    select * from staging.salesforce.stg_salesforce__opportunity_history\n    where is_deleted=false\n),\n\ncampaigns as (\n    select \n        id as campaign_id,\n        name as campaign_name,\n        start_date as campaign_start_date,\n        end_date as campaign_end_date\n    from src_campaigns\n    where name rlike '^[0-9]{4}\\\\s+.*\\\\b[Mm][Aa][Pp][Ll][Ee]\\\\b.*\\\\b[Ss][Yy][Rr][Uu][Pp]\\\\b.*$'\n      and is_deleted=false\n),\n\nmembers as (\n    select \n        campaign_id,\n        contact_id   \n    from src_members\n    where is_deleted=false\n),\n\nfinal_members as (\n    select \n        c.campaign_id,\n        c.campaign_name,\n        c.campaign_start_date,\n        c.campaign_end_date,\n        m.contact_id as campaign_member_contact_id,\n        ct.name as campaign_member_contact_name,\n        ct.account_id as campaign_member_account_id,\n        a.name as campaign_member_account_name\n    from campaigns c\n    inner join members m \n        on m.campaign_id=c.campaign_id\n    left join src_contacts ct\n        on ct.id=m.contact_id\n    left join src_accounts a\n        on a.id=ct.account_id\n),\n\nacc_get_columns as (\n    select \n        id as account_id,\n        name as account_name,\n        -- other columns\n        referring_entity_c as account_referring_account,\n        referring_entity_contact_c as account_referring_contact_id\n    from src_accounts\n    where is_deleted=false\n),\n\nacc_contacts as (\n    select\n        id as contact_id,\n        account_id as contact_account_id\n    from src_contacts\n),\n\nacc_orphan_acc as (\n    select\n        a.account_id,\n        a.account_name,\n        coalesce(a.account_referring_account,c.contact_account_id) as account_referring_account_id,\n        a.account_referring_contact_id\n    from acc_get_columns a\n    left join acc_contacts c \n        on c.contact_id=a.account_referring_contact_id\n),\n\nfinal_accounts as (\n    select\n        a.account_id,\n        a.account_name,\n        a.account_referring_account_id,\n        ar.account_name as account_referring_account_name,\n        a.account_referring_contact_id,\n        c.name as account_referring_contact_name\n    from acc_orphan_acc a\n    left join acc_get_columns ar\n        on ar.account_id=a.account_referring_account_id\n    left join src_contacts c\n        on c.id=a.account_referring_contact_id\n    \n),\n\nopp_stages as (\n    select\n        opportunity_id,\n        stage_name,\n        date(created_date) as stage_created_date,\n        row_number() over (\n            partition by opportunity_id\n            order by created_date desc\n        ) as rn\n    from src_opportunities_histories\n),\n\nopp_current_stage as (\n    select \n        opportunity_id,\n        stage_name as current_stage,\n        stage_created_date\n    from opp_stages\n    where rn=1\n),\n\nopp_create_date as (\n    select \n        id as opportunity_id,\n        date(created_date) as opportunity_created_date,\n        account_id as opportunity_account_id,\n        name as opportunity_name,\n        referral_source_c as opportunity_referring_account_id,\n        referral_contact_c as opportunity_referring_contact_id  \n    from src_opportunities\n),\n\nopp_add_referal_contacts as (\n    select \n        s.opportunity_id,\n        o.opportunity_name,\n        s.current_stage as opportunity_current_stage,\n        s.stage_created_date as opportunity_stage_created_date,\n        o.opportunity_created_date,\n        o.opportunity_account_id,\n        coalesce(o.opportunity_referring_account_id,c.account_id) as opportunity_referring_account_id,\n        o.opportunity_referring_contact_id,\n        c.name as opportunity_referring_contact_name\n    from opp_current_stage s\n    inner join opp_create_date o \n        on o.opportunity_id=s.opportunity_id\n    left join src_contacts c\n        on c.id=o.opportunity_referring_contact_id\n),\n\nfinal_opportunities as (\n    select \n        o.opportunity_id,\n        o.opportunity_name,\n        o.opportunity_current_stage,\n        o.opportunity_stage_created_date,\n        o.opportunity_created_date,\n        o.opportunity_account_id,\n        a.name as opportunity_account_name,\n        o.opportunity_referring_account_id,\n        ra.name as opportunity_referring_account_name,\n        o.opportunity_referring_contact_id,\n        o.opportunity_referring_contact_name\n    from opp_add_referal_contacts o\n    inner join src_accounts a\n        on a.id=o.opportunity_account_id\n    left join src_accounts ra\n        on ra.id=o.opportunity_referring_account_id\n),\n\ndirect as (\n    select \n        o.opportunity_id,\n        o.opportunity_name,\n        o.opportunity_current_stage,\n        o.opportunity_stage_created_date,\n        o.opportunity_created_date,\n        o.opportunity_account_id,\n        o.opportunity_account_name,\n        o.opportunity_referring_account_id,\n        o.opportunity_referring_account_name,\n        o.opportunity_referring_contact_id,\n        o.opportunity_referring_contact_name,\n        m0.campaign_id,\n        m0.campaign_name,\n        m0.campaign_start_date,\n        m0.campaign_end_date,\n        m0.campaign_member_contact_id,\n        m0.campaign_member_contact_name,\n        case\n            when m0.campaign_member_contact_id is not null then 'direct' else 'none'\n        end as member_relationship_to_opp\n    from final_opportunities o\n    inner join final_members m0\n        on m0.campaign_member_contact_id=opportunity_referring_contact_id\n),\n\nindirect as (\n    select \n        o.opportunity_id,\n        o.opportunity_name,\n        o.opportunity_current_stage,\n        o.opportunity_stage_created_date,\n        o.opportunity_created_date,\n        o.opportunity_account_id,\n        o.opportunity_account_name,\n        o.opportunity_referring_account_id,\n        o.opportunity_referring_account_name,\n        c.id as opportunity_referring_contact_id,\n        c.name as opportunity_referring_contact_name,\n        m0.campaign_id,\n        m0.campaign_name,\n        m0.campaign_start_date,\n        m0.campaign_end_date,\n        m0.campaign_member_contact_id,\n        m0.campaign_member_contact_name,\n        'indirect' as member_relationship_to_opp\n    from final_opportunities o\n    inner join final_members m0\n        on (m0.campaign_member_account_id=opportunity_referring_account_id and m0.campaign_member_contact_id<>o.opportunity_referring_contact_id)\n    left join src_contacts c\n        on c.account_id=o.opportunity_referring_account_id\n    where (o.opportunity_id, m0.campaign_id, c.id) \n        not in (select opportunity_id, campaign_id, campaign_member_contact_id from direct)\n),\n\nno_campaign as (\n    select \n        o.opportunity_id,\n        o.opportunity_name,\n        o.opportunity_current_stage,\n        o.opportunity_stage_created_date,\n        o.opportunity_created_date,\n        o.opportunity_account_id,\n        o.opportunity_account_name,\n        o.opportunity_referring_account_id,\n        o.opportunity_referring_account_name,\n        c.id as opportunity_referring_contact_id,\n        c.name as opportunity_referring_contact_name,\n        null as campaign_id,\n        null as campaign_name,\n        null as campaign_start_date,\n        null as campaign_end_date,\n        c.id as campaign_member_contact_id,\n        c.name as campaign_member_contact_name,\n        'none' as member_relationship_to_opp\n    from final_opportunities o\n    inner join src_contacts c\n        on c.account_id=o.opportunity_referring_account_id \n    where o.opportunity_id not in (select opportunity_id from direct)\n),\n\nno_referral as (\n    select \n        o.opportunity_id,\n        o.opportunity_name,\n        o.opportunity_current_stage,\n        o.opportunity_stage_created_date,\n        o.opportunity_created_date,\n        o.opportunity_account_id,\n        o.opportunity_account_name,\n        null as opportunity_referring_account_id,\n        null as opportunity_referring_account_name,\n        null as opportunity_referring_contact_id,\n        null as opportunity_referring_contact_name,\n        null as campaign_id,\n        null as campaign_name,\n        null as campaign_start_date,\n        null as campaign_end_date,\n        null as campaign_member_contact_id,\n        null as campaign_member_contact_name,\n        'no_referral' as member_relationship_to_opp\n    from final_opportunities o\n    where o.opportunity_referring_account_id is null\n),\n\nfinal as (\n    select \n        *,\n        to_char(opportunity_created_date, 'YYYY-MM') as opportunity_created_yyyy_mm,\n        to_char(opportunity_created_date, 'YYYY') as opportunity_created_yyyy     \n    from direct\n    union all\n    select \n        *,\n        to_char(opportunity_created_date, 'YYYY-MM') as opportunity_created_yyyy_mm,\n        to_char(opportunity_created_date, 'YYYY') as opportunity_created_yyyy     \n    from indirect\n    union all\n    select \n        *,\n        to_char(opportunity_created_date, 'YYYY-MM') as opportunity_created_yyyy_mm,\n        to_char(opportunity_created_date, 'YYYY') as opportunity_created_yyyy     \n    from no_campaign    \n    union all\n    select \n        *,\n        to_char(opportunity_created_date, 'YYYY-MM') as opportunity_created_yyyy_mm,\n        to_char(opportunity_created_date, 'YYYY') as opportunity_created_yyyy     \n    from no_referral\n)\n\nselect count(distinct opportunity_id) from final\n\n-- select count(distinct id) from src_opportunities --final \n-- where opportunity_referring_account_id is null\n--   and opportunity_referring_account_name='BDC Capital'\n  -- and opportunity\n  ",
   "execution_count": null
  }
 ]
}